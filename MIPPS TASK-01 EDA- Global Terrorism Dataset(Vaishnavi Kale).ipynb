{
 "cells": [
  {
   "cell_type": "markdown",
   "id": "3ed6b825",
   "metadata": {},
   "source": [
    "<center> <h1 style=\"background-color:tomato; color:BLACK\"><br>Monthly Internship Program For Professionals @Coders Redy<br></h1></center>\n",
    "<center> <h2 style=\"background-color:DARKSALMON; color:BLACK\"><br>Kale Vaishnavi (Trainee Coder @ Coders Ready), Batch- Sept 2022<br></h2></center>\n",
    "<center> <h2 style=\"background-color:DARKSALMON; color:BLACK\"><br>Task 01: Global Terrorism Dataset (EDA)<br></h2></center>\n",
    "<center> <h2 style=\"background-color:DARKSALMON; color:BLACK\"><br>Level: Intermediate<br></h2></center>"
   ]
  },
  {
   "cell_type": "markdown",
   "id": "186b90fc",
   "metadata": {},
   "source": [
    "# `Problem Statements:`"
   ]
  },
  {
   "cell_type": "markdown",
   "id": "36d75407",
   "metadata": {},
   "source": [
    "- Perform \"Exploratory Data Analysis\" on dataset \"Global Terrorism\".\n",
    "- As a security/defense analyst, try to find out the hot zones of terrorism.\n",
    "- What other security issues you can derive through this EDA?\n",
    "- You can use Python tool to perform this analysis.\n",
    "- DATASET: https://bit.ly/3F8CV9A\n",
    "- Intermediate Level - Create storyboards, Screen Records along with your audio explaining the charts and interpretations. Use images and plots/charts."
   ]
  },
  {
   "cell_type": "markdown",
   "id": "ab8fddd8",
   "metadata": {},
   "source": [
    "# `Information about features mainly used in this EDA:`"
   ]
  },
  {
   "cell_type": "markdown",
   "id": "681e7ed9",
   "metadata": {},
   "source": [
    "1) iyear: This field contains the year in which the incident occurred.\n",
    "\n",
    "2) imonth: This field contains the month in which the incident occurred.\n",
    "\n",
    "3) iday: This field contains the day in which the incident occurred.\n",
    "\n",
    "4) country_txt: This field identifies the country or location where the incident occurred (categorical).\n",
    "\n",
    "5) region_txt: This field identifies the region in which the incident occurred(categorical).\n",
    "\n",
    "6) provstate: This variable records the name (at the time of event) of the 1st order subnational administrative region in which the event occurs.\n",
    "\n",
    "7) city: This field contains the name of the city, village, or town in which the incident occurred.\n",
    "\n",
    "8) attacktype1_txt: 1:Assassination 2:Hijacking 3:Kidnapping 4:Barricade Incident 5:Bombing/Explosion 6:Armed Assault 7:Unarmed Assault 8:Facility/Infrastructure Attack 9:Unknown.\n",
    "\n",
    "9) targtype1_txt: Names of targtype1.\n",
    "\n",
    "10) targsubtype1_txt: Names of targsubtype1.\n",
    "\n",
    "11) gname: This field contains the name of the group that carried out the attack.\n",
    "\n",
    "12) weaptype1_txt: Names of weaptype1.\n"
   ]
  },
  {
   "cell_type": "code",
   "execution_count": 1,
   "id": "551eef4f",
   "metadata": {},
   "outputs": [],
   "source": [
    "#importing required libraries:\n",
    "import numpy as np\n",
    "import pandas as pd\n",
    "import matplotlib.pyplot as plt \n",
    "from datetime import datetime\n",
    "import warnings\n",
    "warnings.filterwarnings('ignore')\n",
    "import seaborn as sns"
   ]
  },
  {
   "cell_type": "code",
   "execution_count": 2,
   "id": "494d000e",
   "metadata": {
    "scrolled": true
   },
   "outputs": [
    {
     "data": {
      "text/html": [
       "<div>\n",
       "<style scoped>\n",
       "    .dataframe tbody tr th:only-of-type {\n",
       "        vertical-align: middle;\n",
       "    }\n",
       "\n",
       "    .dataframe tbody tr th {\n",
       "        vertical-align: top;\n",
       "    }\n",
       "\n",
       "    .dataframe thead th {\n",
       "        text-align: right;\n",
       "    }\n",
       "</style>\n",
       "<table border=\"1\" class=\"dataframe\">\n",
       "  <thead>\n",
       "    <tr style=\"text-align: right;\">\n",
       "      <th></th>\n",
       "      <th>eventid</th>\n",
       "      <th>iyear</th>\n",
       "      <th>imonth</th>\n",
       "      <th>iday</th>\n",
       "      <th>approxdate</th>\n",
       "      <th>extended</th>\n",
       "      <th>resolution</th>\n",
       "      <th>country</th>\n",
       "      <th>country_txt</th>\n",
       "      <th>region</th>\n",
       "      <th>...</th>\n",
       "      <th>addnotes</th>\n",
       "      <th>scite1</th>\n",
       "      <th>scite2</th>\n",
       "      <th>scite3</th>\n",
       "      <th>dbsource</th>\n",
       "      <th>INT_LOG</th>\n",
       "      <th>INT_IDEO</th>\n",
       "      <th>INT_MISC</th>\n",
       "      <th>INT_ANY</th>\n",
       "      <th>related</th>\n",
       "    </tr>\n",
       "  </thead>\n",
       "  <tbody>\n",
       "    <tr>\n",
       "      <th>0</th>\n",
       "      <td>1.970000e+11</td>\n",
       "      <td>1970</td>\n",
       "      <td>7</td>\n",
       "      <td>2</td>\n",
       "      <td>NaN</td>\n",
       "      <td>0</td>\n",
       "      <td>NaN</td>\n",
       "      <td>58</td>\n",
       "      <td>Dominican Republic</td>\n",
       "      <td>2</td>\n",
       "      <td>...</td>\n",
       "      <td>NaN</td>\n",
       "      <td>NaN</td>\n",
       "      <td>NaN</td>\n",
       "      <td>NaN</td>\n",
       "      <td>PGIS</td>\n",
       "      <td>0</td>\n",
       "      <td>0</td>\n",
       "      <td>0</td>\n",
       "      <td>0</td>\n",
       "      <td>NaN</td>\n",
       "    </tr>\n",
       "    <tr>\n",
       "      <th>1</th>\n",
       "      <td>1.970000e+11</td>\n",
       "      <td>1970</td>\n",
       "      <td>0</td>\n",
       "      <td>0</td>\n",
       "      <td>NaN</td>\n",
       "      <td>0</td>\n",
       "      <td>NaN</td>\n",
       "      <td>130</td>\n",
       "      <td>Mexico</td>\n",
       "      <td>1</td>\n",
       "      <td>...</td>\n",
       "      <td>NaN</td>\n",
       "      <td>NaN</td>\n",
       "      <td>NaN</td>\n",
       "      <td>NaN</td>\n",
       "      <td>PGIS</td>\n",
       "      <td>0</td>\n",
       "      <td>1</td>\n",
       "      <td>1</td>\n",
       "      <td>1</td>\n",
       "      <td>NaN</td>\n",
       "    </tr>\n",
       "    <tr>\n",
       "      <th>2</th>\n",
       "      <td>1.970000e+11</td>\n",
       "      <td>1970</td>\n",
       "      <td>1</td>\n",
       "      <td>0</td>\n",
       "      <td>NaN</td>\n",
       "      <td>0</td>\n",
       "      <td>NaN</td>\n",
       "      <td>160</td>\n",
       "      <td>Philippines</td>\n",
       "      <td>5</td>\n",
       "      <td>...</td>\n",
       "      <td>NaN</td>\n",
       "      <td>NaN</td>\n",
       "      <td>NaN</td>\n",
       "      <td>NaN</td>\n",
       "      <td>PGIS</td>\n",
       "      <td>-9</td>\n",
       "      <td>-9</td>\n",
       "      <td>1</td>\n",
       "      <td>1</td>\n",
       "      <td>NaN</td>\n",
       "    </tr>\n",
       "    <tr>\n",
       "      <th>3</th>\n",
       "      <td>1.970000e+11</td>\n",
       "      <td>1970</td>\n",
       "      <td>1</td>\n",
       "      <td>0</td>\n",
       "      <td>NaN</td>\n",
       "      <td>0</td>\n",
       "      <td>NaN</td>\n",
       "      <td>78</td>\n",
       "      <td>Greece</td>\n",
       "      <td>8</td>\n",
       "      <td>...</td>\n",
       "      <td>NaN</td>\n",
       "      <td>NaN</td>\n",
       "      <td>NaN</td>\n",
       "      <td>NaN</td>\n",
       "      <td>PGIS</td>\n",
       "      <td>-9</td>\n",
       "      <td>-9</td>\n",
       "      <td>1</td>\n",
       "      <td>1</td>\n",
       "      <td>NaN</td>\n",
       "    </tr>\n",
       "    <tr>\n",
       "      <th>4</th>\n",
       "      <td>1.970000e+11</td>\n",
       "      <td>1970</td>\n",
       "      <td>1</td>\n",
       "      <td>0</td>\n",
       "      <td>NaN</td>\n",
       "      <td>0</td>\n",
       "      <td>NaN</td>\n",
       "      <td>101</td>\n",
       "      <td>Japan</td>\n",
       "      <td>4</td>\n",
       "      <td>...</td>\n",
       "      <td>NaN</td>\n",
       "      <td>NaN</td>\n",
       "      <td>NaN</td>\n",
       "      <td>NaN</td>\n",
       "      <td>PGIS</td>\n",
       "      <td>-9</td>\n",
       "      <td>-9</td>\n",
       "      <td>1</td>\n",
       "      <td>1</td>\n",
       "      <td>NaN</td>\n",
       "    </tr>\n",
       "    <tr>\n",
       "      <th>...</th>\n",
       "      <td>...</td>\n",
       "      <td>...</td>\n",
       "      <td>...</td>\n",
       "      <td>...</td>\n",
       "      <td>...</td>\n",
       "      <td>...</td>\n",
       "      <td>...</td>\n",
       "      <td>...</td>\n",
       "      <td>...</td>\n",
       "      <td>...</td>\n",
       "      <td>...</td>\n",
       "      <td>...</td>\n",
       "      <td>...</td>\n",
       "      <td>...</td>\n",
       "      <td>...</td>\n",
       "      <td>...</td>\n",
       "      <td>...</td>\n",
       "      <td>...</td>\n",
       "      <td>...</td>\n",
       "      <td>...</td>\n",
       "      <td>...</td>\n",
       "    </tr>\n",
       "    <tr>\n",
       "      <th>181686</th>\n",
       "      <td>2.020000e+11</td>\n",
       "      <td>2017</td>\n",
       "      <td>12</td>\n",
       "      <td>31</td>\n",
       "      <td>NaN</td>\n",
       "      <td>0</td>\n",
       "      <td>NaN</td>\n",
       "      <td>182</td>\n",
       "      <td>Somalia</td>\n",
       "      <td>11</td>\n",
       "      <td>...</td>\n",
       "      <td>NaN</td>\n",
       "      <td>\"Somalia: Al-Shabaab Militants Attack Army Che...</td>\n",
       "      <td>\"Highlights: Somalia Daily Media Highlights 2 ...</td>\n",
       "      <td>\"Highlights: Somalia Daily Media Highlights 1 ...</td>\n",
       "      <td>START Primary Collection</td>\n",
       "      <td>0</td>\n",
       "      <td>0</td>\n",
       "      <td>0</td>\n",
       "      <td>0</td>\n",
       "      <td>NaN</td>\n",
       "    </tr>\n",
       "    <tr>\n",
       "      <th>181687</th>\n",
       "      <td>2.020000e+11</td>\n",
       "      <td>2017</td>\n",
       "      <td>12</td>\n",
       "      <td>31</td>\n",
       "      <td>NaN</td>\n",
       "      <td>0</td>\n",
       "      <td>NaN</td>\n",
       "      <td>200</td>\n",
       "      <td>Syria</td>\n",
       "      <td>10</td>\n",
       "      <td>...</td>\n",
       "      <td>NaN</td>\n",
       "      <td>\"Putin's 'victory' in Syria has turned into a ...</td>\n",
       "      <td>\"Two Russian soldiers killed at Hmeymim base i...</td>\n",
       "      <td>\"Two Russian servicemen killed in Syria mortar...</td>\n",
       "      <td>START Primary Collection</td>\n",
       "      <td>-9</td>\n",
       "      <td>-9</td>\n",
       "      <td>1</td>\n",
       "      <td>1</td>\n",
       "      <td>NaN</td>\n",
       "    </tr>\n",
       "    <tr>\n",
       "      <th>181688</th>\n",
       "      <td>2.020000e+11</td>\n",
       "      <td>2017</td>\n",
       "      <td>12</td>\n",
       "      <td>31</td>\n",
       "      <td>NaN</td>\n",
       "      <td>0</td>\n",
       "      <td>NaN</td>\n",
       "      <td>160</td>\n",
       "      <td>Philippines</td>\n",
       "      <td>5</td>\n",
       "      <td>...</td>\n",
       "      <td>NaN</td>\n",
       "      <td>\"Maguindanao clashes trap tribe members,\" Phil...</td>\n",
       "      <td>NaN</td>\n",
       "      <td>NaN</td>\n",
       "      <td>START Primary Collection</td>\n",
       "      <td>0</td>\n",
       "      <td>0</td>\n",
       "      <td>0</td>\n",
       "      <td>0</td>\n",
       "      <td>NaN</td>\n",
       "    </tr>\n",
       "    <tr>\n",
       "      <th>181689</th>\n",
       "      <td>2.020000e+11</td>\n",
       "      <td>2017</td>\n",
       "      <td>12</td>\n",
       "      <td>31</td>\n",
       "      <td>NaN</td>\n",
       "      <td>0</td>\n",
       "      <td>NaN</td>\n",
       "      <td>92</td>\n",
       "      <td>India</td>\n",
       "      <td>6</td>\n",
       "      <td>...</td>\n",
       "      <td>NaN</td>\n",
       "      <td>\"Trader escapes grenade attack in Imphal,\" Bus...</td>\n",
       "      <td>NaN</td>\n",
       "      <td>NaN</td>\n",
       "      <td>START Primary Collection</td>\n",
       "      <td>-9</td>\n",
       "      <td>-9</td>\n",
       "      <td>0</td>\n",
       "      <td>-9</td>\n",
       "      <td>NaN</td>\n",
       "    </tr>\n",
       "    <tr>\n",
       "      <th>181690</th>\n",
       "      <td>2.020000e+11</td>\n",
       "      <td>2017</td>\n",
       "      <td>12</td>\n",
       "      <td>31</td>\n",
       "      <td>NaN</td>\n",
       "      <td>0</td>\n",
       "      <td>NaN</td>\n",
       "      <td>160</td>\n",
       "      <td>Philippines</td>\n",
       "      <td>5</td>\n",
       "      <td>...</td>\n",
       "      <td>NaN</td>\n",
       "      <td>\"Security tightened in Cotabato following IED ...</td>\n",
       "      <td>\"Security tightened in Cotabato City,\" Manila ...</td>\n",
       "      <td>NaN</td>\n",
       "      <td>START Primary Collection</td>\n",
       "      <td>-9</td>\n",
       "      <td>-9</td>\n",
       "      <td>0</td>\n",
       "      <td>-9</td>\n",
       "      <td>NaN</td>\n",
       "    </tr>\n",
       "  </tbody>\n",
       "</table>\n",
       "<p>181691 rows × 135 columns</p>\n",
       "</div>"
      ],
      "text/plain": [
       "             eventid  iyear  imonth  iday approxdate  extended resolution  \\\n",
       "0       1.970000e+11   1970       7     2        NaN         0        NaN   \n",
       "1       1.970000e+11   1970       0     0        NaN         0        NaN   \n",
       "2       1.970000e+11   1970       1     0        NaN         0        NaN   \n",
       "3       1.970000e+11   1970       1     0        NaN         0        NaN   \n",
       "4       1.970000e+11   1970       1     0        NaN         0        NaN   \n",
       "...              ...    ...     ...   ...        ...       ...        ...   \n",
       "181686  2.020000e+11   2017      12    31        NaN         0        NaN   \n",
       "181687  2.020000e+11   2017      12    31        NaN         0        NaN   \n",
       "181688  2.020000e+11   2017      12    31        NaN         0        NaN   \n",
       "181689  2.020000e+11   2017      12    31        NaN         0        NaN   \n",
       "181690  2.020000e+11   2017      12    31        NaN         0        NaN   \n",
       "\n",
       "        country         country_txt  region  ... addnotes  \\\n",
       "0            58  Dominican Republic       2  ...      NaN   \n",
       "1           130              Mexico       1  ...      NaN   \n",
       "2           160         Philippines       5  ...      NaN   \n",
       "3            78              Greece       8  ...      NaN   \n",
       "4           101               Japan       4  ...      NaN   \n",
       "...         ...                 ...     ...  ...      ...   \n",
       "181686      182             Somalia      11  ...      NaN   \n",
       "181687      200               Syria      10  ...      NaN   \n",
       "181688      160         Philippines       5  ...      NaN   \n",
       "181689       92               India       6  ...      NaN   \n",
       "181690      160         Philippines       5  ...      NaN   \n",
       "\n",
       "                                                   scite1  \\\n",
       "0                                                     NaN   \n",
       "1                                                     NaN   \n",
       "2                                                     NaN   \n",
       "3                                                     NaN   \n",
       "4                                                     NaN   \n",
       "...                                                   ...   \n",
       "181686  \"Somalia: Al-Shabaab Militants Attack Army Che...   \n",
       "181687  \"Putin's 'victory' in Syria has turned into a ...   \n",
       "181688  \"Maguindanao clashes trap tribe members,\" Phil...   \n",
       "181689  \"Trader escapes grenade attack in Imphal,\" Bus...   \n",
       "181690  \"Security tightened in Cotabato following IED ...   \n",
       "\n",
       "                                                   scite2  \\\n",
       "0                                                     NaN   \n",
       "1                                                     NaN   \n",
       "2                                                     NaN   \n",
       "3                                                     NaN   \n",
       "4                                                     NaN   \n",
       "...                                                   ...   \n",
       "181686  \"Highlights: Somalia Daily Media Highlights 2 ...   \n",
       "181687  \"Two Russian soldiers killed at Hmeymim base i...   \n",
       "181688                                                NaN   \n",
       "181689                                                NaN   \n",
       "181690  \"Security tightened in Cotabato City,\" Manila ...   \n",
       "\n",
       "                                                   scite3  \\\n",
       "0                                                     NaN   \n",
       "1                                                     NaN   \n",
       "2                                                     NaN   \n",
       "3                                                     NaN   \n",
       "4                                                     NaN   \n",
       "...                                                   ...   \n",
       "181686  \"Highlights: Somalia Daily Media Highlights 1 ...   \n",
       "181687  \"Two Russian servicemen killed in Syria mortar...   \n",
       "181688                                                NaN   \n",
       "181689                                                NaN   \n",
       "181690                                                NaN   \n",
       "\n",
       "                        dbsource  INT_LOG  INT_IDEO INT_MISC INT_ANY  related  \n",
       "0                           PGIS        0         0        0       0      NaN  \n",
       "1                           PGIS        0         1        1       1      NaN  \n",
       "2                           PGIS       -9        -9        1       1      NaN  \n",
       "3                           PGIS       -9        -9        1       1      NaN  \n",
       "4                           PGIS       -9        -9        1       1      NaN  \n",
       "...                          ...      ...       ...      ...     ...      ...  \n",
       "181686  START Primary Collection        0         0        0       0      NaN  \n",
       "181687  START Primary Collection       -9        -9        1       1      NaN  \n",
       "181688  START Primary Collection        0         0        0       0      NaN  \n",
       "181689  START Primary Collection       -9        -9        0      -9      NaN  \n",
       "181690  START Primary Collection       -9        -9        0      -9      NaN  \n",
       "\n",
       "[181691 rows x 135 columns]"
      ]
     },
     "execution_count": 2,
     "metadata": {},
     "output_type": "execute_result"
    }
   ],
   "source": [
    "#importing Data:\n",
    "file =('globalterrorism.csv')\n",
    "df= pd.read_csv(file,encoding=\"ISO-8859-1\")\n",
    "df"
   ]
  },
  {
   "cell_type": "markdown",
   "id": "93193135",
   "metadata": {},
   "source": [
    "# `Data Cleaning:`"
   ]
  },
  {
   "cell_type": "code",
   "execution_count": 3,
   "id": "26992fd1",
   "metadata": {
    "scrolled": false
   },
   "outputs": [
    {
     "data": {
      "text/plain": [
       "(181691, 135)"
      ]
     },
     "execution_count": 3,
     "metadata": {},
     "output_type": "execute_result"
    }
   ],
   "source": [
    "df.shape"
   ]
  },
  {
   "cell_type": "code",
   "execution_count": 4,
   "id": "4c857da7",
   "metadata": {},
   "outputs": [
    {
     "data": {
      "text/html": [
       "<div>\n",
       "<style scoped>\n",
       "    .dataframe tbody tr th:only-of-type {\n",
       "        vertical-align: middle;\n",
       "    }\n",
       "\n",
       "    .dataframe tbody tr th {\n",
       "        vertical-align: top;\n",
       "    }\n",
       "\n",
       "    .dataframe thead th {\n",
       "        text-align: right;\n",
       "    }\n",
       "</style>\n",
       "<table border=\"1\" class=\"dataframe\">\n",
       "  <thead>\n",
       "    <tr style=\"text-align: right;\">\n",
       "      <th></th>\n",
       "      <th>Year</th>\n",
       "      <th>Country</th>\n",
       "      <th>Region</th>\n",
       "      <th>State</th>\n",
       "      <th>City</th>\n",
       "      <th>Attack_type</th>\n",
       "      <th>Target_type</th>\n",
       "      <th>Target_subtype</th>\n",
       "      <th>Gang_name</th>\n",
       "      <th>Weapon_type</th>\n",
       "      <th>Kill</th>\n",
       "      <th>Wound</th>\n",
       "    </tr>\n",
       "  </thead>\n",
       "  <tbody>\n",
       "    <tr>\n",
       "      <th>0</th>\n",
       "      <td>1970</td>\n",
       "      <td>Dominican Republic</td>\n",
       "      <td>Central America &amp; Caribbean</td>\n",
       "      <td>NaN</td>\n",
       "      <td>Santo Domingo</td>\n",
       "      <td>Assassination</td>\n",
       "      <td>Private Citizens &amp; Property</td>\n",
       "      <td>Named Civilian</td>\n",
       "      <td>MANO-D</td>\n",
       "      <td>Unknown</td>\n",
       "      <td>1.0</td>\n",
       "      <td>0.0</td>\n",
       "    </tr>\n",
       "    <tr>\n",
       "      <th>1</th>\n",
       "      <td>1970</td>\n",
       "      <td>Mexico</td>\n",
       "      <td>North America</td>\n",
       "      <td>Federal</td>\n",
       "      <td>Mexico city</td>\n",
       "      <td>Hostage Taking (Kidnapping)</td>\n",
       "      <td>Government (Diplomatic)</td>\n",
       "      <td>Diplomatic Personnel (outside of embassy, cons...</td>\n",
       "      <td>23rd of September Communist League</td>\n",
       "      <td>Unknown</td>\n",
       "      <td>0.0</td>\n",
       "      <td>0.0</td>\n",
       "    </tr>\n",
       "    <tr>\n",
       "      <th>2</th>\n",
       "      <td>1970</td>\n",
       "      <td>Philippines</td>\n",
       "      <td>Southeast Asia</td>\n",
       "      <td>Tarlac</td>\n",
       "      <td>Unknown</td>\n",
       "      <td>Assassination</td>\n",
       "      <td>Journalists &amp; Media</td>\n",
       "      <td>Radio Journalist/Staff/Facility</td>\n",
       "      <td>Unknown</td>\n",
       "      <td>Unknown</td>\n",
       "      <td>1.0</td>\n",
       "      <td>0.0</td>\n",
       "    </tr>\n",
       "    <tr>\n",
       "      <th>3</th>\n",
       "      <td>1970</td>\n",
       "      <td>Greece</td>\n",
       "      <td>Western Europe</td>\n",
       "      <td>Attica</td>\n",
       "      <td>Athens</td>\n",
       "      <td>Bombing/Explosion</td>\n",
       "      <td>Government (Diplomatic)</td>\n",
       "      <td>Embassy/Consulate</td>\n",
       "      <td>Unknown</td>\n",
       "      <td>Explosives</td>\n",
       "      <td>NaN</td>\n",
       "      <td>NaN</td>\n",
       "    </tr>\n",
       "    <tr>\n",
       "      <th>4</th>\n",
       "      <td>1970</td>\n",
       "      <td>Japan</td>\n",
       "      <td>East Asia</td>\n",
       "      <td>Fukouka</td>\n",
       "      <td>Fukouka</td>\n",
       "      <td>Facility/Infrastructure Attack</td>\n",
       "      <td>Government (Diplomatic)</td>\n",
       "      <td>Embassy/Consulate</td>\n",
       "      <td>Unknown</td>\n",
       "      <td>Incendiary</td>\n",
       "      <td>NaN</td>\n",
       "      <td>NaN</td>\n",
       "    </tr>\n",
       "  </tbody>\n",
       "</table>\n",
       "</div>"
      ],
      "text/plain": [
       "   Year             Country                       Region    State  \\\n",
       "0  1970  Dominican Republic  Central America & Caribbean      NaN   \n",
       "1  1970              Mexico                North America  Federal   \n",
       "2  1970         Philippines               Southeast Asia   Tarlac   \n",
       "3  1970              Greece               Western Europe   Attica   \n",
       "4  1970               Japan                    East Asia  Fukouka   \n",
       "\n",
       "            City                     Attack_type                  Target_type  \\\n",
       "0  Santo Domingo                   Assassination  Private Citizens & Property   \n",
       "1    Mexico city     Hostage Taking (Kidnapping)      Government (Diplomatic)   \n",
       "2        Unknown                   Assassination          Journalists & Media   \n",
       "3         Athens               Bombing/Explosion      Government (Diplomatic)   \n",
       "4        Fukouka  Facility/Infrastructure Attack      Government (Diplomatic)   \n",
       "\n",
       "                                      Target_subtype  \\\n",
       "0                                     Named Civilian   \n",
       "1  Diplomatic Personnel (outside of embassy, cons...   \n",
       "2                    Radio Journalist/Staff/Facility   \n",
       "3                                  Embassy/Consulate   \n",
       "4                                  Embassy/Consulate   \n",
       "\n",
       "                            Gang_name Weapon_type  Kill  Wound  \n",
       "0                              MANO-D     Unknown   1.0    0.0  \n",
       "1  23rd of September Communist League     Unknown   0.0    0.0  \n",
       "2                             Unknown     Unknown   1.0    0.0  \n",
       "3                             Unknown  Explosives   NaN    NaN  \n",
       "4                             Unknown  Incendiary   NaN    NaN  "
      ]
     },
     "execution_count": 4,
     "metadata": {},
     "output_type": "execute_result"
    }
   ],
   "source": [
    "#Creating new dataframe containg columns(12-mentioned in 'About the dataset' section) which we are mainly going to use in this analysis among total 135 columns:\n",
    "dict={\n",
    "    'Year':df['iyear'],\n",
    "    'Country':df['country_txt'],\n",
    "    'Region':df['region_txt'],\n",
    "    'State':df['provstate'],\n",
    "    'City':df['city'],\n",
    "    'Attack_type':df['attacktype1_txt'],\n",
    "    'Target_type':df['targtype1_txt'],\n",
    "    'Target_subtype':df['targsubtype1_txt'],\n",
    "    'Gang_name':df['gname'],\n",
    "    'Weapon_type':df['weaptype1_txt'],\n",
    "    'Kill':df['nkill'],\n",
    "    'Wound':df['nwound']\n",
    "}\n",
    "Data=pd.DataFrame(dict)\n",
    "Data.head()"
   ]
  },
  {
   "cell_type": "code",
   "execution_count": 5,
   "id": "1276da3d",
   "metadata": {},
   "outputs": [
    {
     "data": {
      "text/plain": [
       "(181691, 12)"
      ]
     },
     "execution_count": 5,
     "metadata": {},
     "output_type": "execute_result"
    }
   ],
   "source": [
    "#Checking shape of new dataframe i.e Data:\n",
    "Data.shape"
   ]
  },
  {
   "cell_type": "code",
   "execution_count": 6,
   "id": "3a198db9",
   "metadata": {
    "scrolled": true
   },
   "outputs": [
    {
     "data": {
      "text/plain": [
       "Year                  0\n",
       "Country               0\n",
       "Region                0\n",
       "State               421\n",
       "City                434\n",
       "Attack_type           0\n",
       "Target_type           0\n",
       "Target_subtype    10373\n",
       "Gang_name             0\n",
       "Weapon_type           0\n",
       "Kill              10313\n",
       "Wound             16311\n",
       "dtype: int64"
      ]
     },
     "execution_count": 6,
     "metadata": {},
     "output_type": "execute_result"
    }
   ],
   "source": [
    "#Finding out number of null values in each column:\n",
    "Data.isnull().sum()"
   ]
  },
  {
   "cell_type": "code",
   "execution_count": 7,
   "id": "a5e607b9",
   "metadata": {},
   "outputs": [],
   "source": [
    "#Filling Null values in 'Target_subtype' column as 'others':\n",
    "Data['Target_subtype'] = Data['Target_subtype'].fillna('others')\n",
    "\n",
    "#Filling Null values in 'City' column as 'Unknown':\n",
    "Data['City']=Data['City'].fillna('Unknown')\n",
    "\n",
    "#Filling Null values in 'State' column as 'Unknown':\n",
    "Data['State']=Data['State'].fillna('Unknown')\n",
    "\n",
    "#Filling Null values in 'Kill' column as 0:\n",
    "Data['Kill']=Data['Kill'].fillna(0)\n",
    "\n",
    "#Filling Null values in 'Wound' column as 0:\n",
    "Data['Wound']=Data['Wound'].fillna(0)"
   ]
  },
  {
   "cell_type": "code",
   "execution_count": 8,
   "id": "525f5248",
   "metadata": {},
   "outputs": [
    {
     "data": {
      "text/plain": [
       "Year              0\n",
       "Country           0\n",
       "Region            0\n",
       "State             0\n",
       "City              0\n",
       "Attack_type       0\n",
       "Target_type       0\n",
       "Target_subtype    0\n",
       "Gang_name         0\n",
       "Weapon_type       0\n",
       "Kill              0\n",
       "Wound             0\n",
       "dtype: int64"
      ]
     },
     "execution_count": 8,
     "metadata": {},
     "output_type": "execute_result"
    }
   ],
   "source": [
    "#Checking for null values:\n",
    "Data.isnull().sum()"
   ]
  },
  {
   "cell_type": "markdown",
   "id": "57c682a5",
   "metadata": {},
   "source": [
    "## `Now there are no null values present in new dataframe i.e Data.`"
   ]
  },
  {
   "cell_type": "markdown",
   "id": "5bae4fad",
   "metadata": {},
   "source": [
    "# `Analysis of Dataset:`"
   ]
  },
  {
   "cell_type": "code",
   "execution_count": 9,
   "id": "d5a520aa",
   "metadata": {},
   "outputs": [
    {
     "name": "stdout",
     "output_type": "stream",
     "text": [
      "<class 'pandas.core.frame.DataFrame'>\n",
      "RangeIndex: 181691 entries, 0 to 181690\n",
      "Data columns (total 12 columns):\n",
      " #   Column          Non-Null Count   Dtype  \n",
      "---  ------          --------------   -----  \n",
      " 0   Year            181691 non-null  int64  \n",
      " 1   Country         181691 non-null  object \n",
      " 2   Region          181691 non-null  object \n",
      " 3   State           181691 non-null  object \n",
      " 4   City            181691 non-null  object \n",
      " 5   Attack_type     181691 non-null  object \n",
      " 6   Target_type     181691 non-null  object \n",
      " 7   Target_subtype  181691 non-null  object \n",
      " 8   Gang_name       181691 non-null  object \n",
      " 9   Weapon_type     181691 non-null  object \n",
      " 10  Kill            181691 non-null  float64\n",
      " 11  Wound           181691 non-null  float64\n",
      "dtypes: float64(2), int64(1), object(9)\n",
      "memory usage: 16.6+ MB\n"
     ]
    }
   ],
   "source": [
    "#Information about the dataset:\n",
    "Data.info()"
   ]
  },
  {
   "cell_type": "code",
   "execution_count": 10,
   "id": "5154d40b",
   "metadata": {},
   "outputs": [
    {
     "data": {
      "text/html": [
       "<div>\n",
       "<style scoped>\n",
       "    .dataframe tbody tr th:only-of-type {\n",
       "        vertical-align: middle;\n",
       "    }\n",
       "\n",
       "    .dataframe tbody tr th {\n",
       "        vertical-align: top;\n",
       "    }\n",
       "\n",
       "    .dataframe thead th {\n",
       "        text-align: right;\n",
       "    }\n",
       "</style>\n",
       "<table border=\"1\" class=\"dataframe\">\n",
       "  <thead>\n",
       "    <tr style=\"text-align: right;\">\n",
       "      <th></th>\n",
       "      <th>Year</th>\n",
       "      <th>Kill</th>\n",
       "      <th>Wound</th>\n",
       "    </tr>\n",
       "  </thead>\n",
       "  <tbody>\n",
       "    <tr>\n",
       "      <th>count</th>\n",
       "      <td>181691.000000</td>\n",
       "      <td>181691.000000</td>\n",
       "      <td>181691.000000</td>\n",
       "    </tr>\n",
       "    <tr>\n",
       "      <th>mean</th>\n",
       "      <td>2002.638997</td>\n",
       "      <td>2.266860</td>\n",
       "      <td>2.883296</td>\n",
       "    </tr>\n",
       "    <tr>\n",
       "      <th>std</th>\n",
       "      <td>13.259430</td>\n",
       "      <td>11.227057</td>\n",
       "      <td>34.309747</td>\n",
       "    </tr>\n",
       "    <tr>\n",
       "      <th>min</th>\n",
       "      <td>1970.000000</td>\n",
       "      <td>0.000000</td>\n",
       "      <td>0.000000</td>\n",
       "    </tr>\n",
       "    <tr>\n",
       "      <th>25%</th>\n",
       "      <td>1991.000000</td>\n",
       "      <td>0.000000</td>\n",
       "      <td>0.000000</td>\n",
       "    </tr>\n",
       "    <tr>\n",
       "      <th>50%</th>\n",
       "      <td>2009.000000</td>\n",
       "      <td>0.000000</td>\n",
       "      <td>0.000000</td>\n",
       "    </tr>\n",
       "    <tr>\n",
       "      <th>75%</th>\n",
       "      <td>2014.000000</td>\n",
       "      <td>2.000000</td>\n",
       "      <td>2.000000</td>\n",
       "    </tr>\n",
       "    <tr>\n",
       "      <th>max</th>\n",
       "      <td>2017.000000</td>\n",
       "      <td>1570.000000</td>\n",
       "      <td>8191.000000</td>\n",
       "    </tr>\n",
       "  </tbody>\n",
       "</table>\n",
       "</div>"
      ],
      "text/plain": [
       "                Year           Kill          Wound\n",
       "count  181691.000000  181691.000000  181691.000000\n",
       "mean     2002.638997       2.266860       2.883296\n",
       "std        13.259430      11.227057      34.309747\n",
       "min      1970.000000       0.000000       0.000000\n",
       "25%      1991.000000       0.000000       0.000000\n",
       "50%      2009.000000       0.000000       0.000000\n",
       "75%      2014.000000       2.000000       2.000000\n",
       "max      2017.000000    1570.000000    8191.000000"
      ]
     },
     "execution_count": 10,
     "metadata": {},
     "output_type": "execute_result"
    }
   ],
   "source": [
    "#statistical description of the dataset:\n",
    "Data.describe()"
   ]
  },
  {
   "cell_type": "code",
   "execution_count": 11,
   "id": "0f76174e",
   "metadata": {
    "scrolled": true
   },
   "outputs": [
    {
     "data": {
      "text/plain": [
       "array(['Dominican Republic', 'Mexico', 'Philippines', 'Greece', 'Japan',\n",
       "       'United States', 'Uruguay', 'Italy', 'East Germany (GDR)',\n",
       "       'Ethiopia', 'Guatemala', 'Venezuela', 'West Germany (FRG)',\n",
       "       'Switzerland', 'Jordan', 'Spain', 'Brazil', 'Egypt', 'Argentina',\n",
       "       'Lebanon', 'Ireland', 'Turkey', 'Paraguay', 'Iran',\n",
       "       'United Kingdom', 'Colombia', 'Bolivia', 'Nicaragua',\n",
       "       'Netherlands', 'Belgium', 'Canada', 'Australia', 'Pakistan',\n",
       "       'Zambia', 'Sweden', 'Costa Rica', 'South Yemen', 'Cambodia',\n",
       "       'Israel', 'Poland', 'Taiwan', 'Panama', 'Kuwait',\n",
       "       'West Bank and Gaza Strip', 'Austria', 'Czechoslovakia', 'India',\n",
       "       'France', 'South Vietnam', 'Brunei', 'Zaire',\n",
       "       \"People's Republic of the Congo\", 'Portugal', 'Algeria',\n",
       "       'El Salvador', 'Thailand', 'Haiti', 'Sudan', 'Morocco', 'Cyprus',\n",
       "       'Myanmar', 'Afghanistan', 'Peru', 'Chile', 'Honduras',\n",
       "       'Yugoslavia', 'Ecuador', 'New Zealand', 'Malaysia', 'Singapore',\n",
       "       'Botswana', 'Jamaica', 'Chad', 'North Yemen', 'Andorra', 'Syria',\n",
       "       'South Korea', 'United Arab Emirates', 'South Africa', 'Kenya',\n",
       "       'Iraq', 'Somalia', 'Tanzania', 'Sri Lanka', 'Namibia', 'Bahamas',\n",
       "       'Nigeria', 'Barbados', 'Trinidad and Tobago', 'Bangladesh',\n",
       "       'Angola', 'Mauritania', 'Saudi Arabia', 'Djibouti', 'Indonesia',\n",
       "       'Malta', 'Rhodesia', 'Soviet Union', 'Denmark', 'Western Sahara',\n",
       "       'Guyana', 'Mozambique', 'Tunisia', 'Uganda', 'Norway', 'Lesotho',\n",
       "       'Gabon', 'Libya', 'Bahrain', 'Hong Kong', 'Senegal', 'Zimbabwe',\n",
       "       'Guinea', 'Grenada', 'New Hebrides', 'Belize', 'Guadeloupe',\n",
       "       'Martinique', 'Vatican City', 'Albania',\n",
       "       'Central African Republic', 'Seychelles', 'Dominica', 'Qatar',\n",
       "       'Bulgaria', 'Suriname', 'Swaziland', 'Luxembourg', 'Iceland',\n",
       "       'French Guiana', 'Falkland Islands', 'Burkina Faso',\n",
       "       'New Caledonia', 'Romania', 'Niger', 'Nepal', 'Togo', 'Finland',\n",
       "       'Fiji', 'Ghana', 'Maldives', 'Mauritius', 'Hungary', 'Laos',\n",
       "       'Papua New Guinea', 'China', 'Liberia', 'Republic of the Congo',\n",
       "       'Mali', 'Germany', 'Yemen', 'Rwanda', 'Sierra Leone', 'Cameroon',\n",
       "       'Cuba', 'Croatia', 'Georgia', 'Azerbaijan', 'Madagascar',\n",
       "       'Lithuania', 'Burundi', 'Ukraine', 'Moldova', 'Armenia', 'Russia',\n",
       "       'Ivory Coast', 'Kazakhstan', 'Antigua and Barbuda',\n",
       "       'Bosnia-Herzegovina', 'Equatorial Guinea', 'Tajikistan', 'Malawi',\n",
       "       'Uzbekistan', 'Latvia', 'Estonia', 'Vietnam', 'Comoros', 'Benin',\n",
       "       'Slovak Republic', 'Macedonia', 'Wallis and Futuna', 'Belarus',\n",
       "       'Czech Republic', 'Slovenia', 'Gambia', 'North Korea', 'Eritrea',\n",
       "       'St. Kitts and Nevis', 'French Polynesia', 'Macau', 'Kyrgyzstan',\n",
       "       'Vanuatu', 'Democratic Republic of the Congo', 'Kosovo',\n",
       "       'Solomon Islands', 'East Timor', 'St. Lucia', 'Guinea-Bissau',\n",
       "       'Montenegro', 'International', 'Turkmenistan', 'Serbia-Montenegro',\n",
       "       'Bhutan', 'Serbia', 'South Sudan'], dtype=object)"
      ]
     },
     "execution_count": 11,
     "metadata": {},
     "output_type": "execute_result"
    }
   ],
   "source": [
    "#Finding out how many countries data is given in this dataset:\n",
    "Countries=Data['Country'].unique()\n",
    "Countries"
   ]
  },
  {
   "cell_type": "code",
   "execution_count": 12,
   "id": "355c0d07",
   "metadata": {},
   "outputs": [
    {
     "name": "stdout",
     "output_type": "stream",
     "text": [
      "Total 205 countries were noted in the data.\n"
     ]
    }
   ],
   "source": [
    "print(\"Total {} countries were noted in the data.\".format(len(Countries)))"
   ]
  },
  {
   "cell_type": "code",
   "execution_count": 13,
   "id": "1f2ebde0",
   "metadata": {},
   "outputs": [
    {
     "name": "stdout",
     "output_type": "stream",
     "text": [
      "Iraq              24636\n",
      "Pakistan          14368\n",
      "Afghanistan       12731\n",
      "India             11960\n",
      "Colombia           8306\n",
      "Philippines        6908\n",
      "Peru               6096\n",
      "El Salvador        5320\n",
      "United Kingdom     5235\n",
      "Turkey             4292\n",
      "Name: Country, dtype: int64\n"
     ]
    }
   ],
   "source": [
    "#Top 10 countries affected by terrorism:\n",
    "print(Data['Country'].value_counts().head(10))"
   ]
  },
  {
   "cell_type": "code",
   "execution_count": 14,
   "id": "7037579c",
   "metadata": {},
   "outputs": [
    {
     "data": {
      "image/png": "[encoded data removed]",
      "text/plain": [
       "<Figure size 1080x504 with 1 Axes>"
      ]
     },
     "metadata": {
      "needs_background": "light"
     },
     "output_type": "display_data"
    }
   ],
   "source": [
    "count_terror = Data['Country'].value_counts()[:16].to_frame()\n",
    "count_terror.columns=['Attacks']\n",
    "count_kill=Data.groupby ('Country')['Kill'].sum().to_frame()\n",
    "count_terror.merge(count_kill,left_index = True,right_index =True,how='left').plot.bar(width=0.9)\n",
    "fig=plt.gcf()\n",
    "plt.title(\"Attacks VS Killed\", fontsize=20)\n",
    "fig.set_size_inches(15,7)\n",
    "plt.show()"
   ]
  },
  {
   "cell_type": "markdown",
   "id": "cb0f364d",
   "metadata": {},
   "source": [
    "## `Iraq has the highest number of terrorist attacks and kills, way greater than all other countries. Followed by Pakistan, Afghanistan and India.`"
   ]
  },
  {
   "cell_type": "code",
   "execution_count": 15,
   "id": "fe307623",
   "metadata": {},
   "outputs": [
    {
     "name": "stdout",
     "output_type": "stream",
     "text": [
      "['Central America & Caribbean' 'North America' 'Southeast Asia'\n",
      " 'Western Europe' 'East Asia' 'South America' 'Eastern Europe'\n",
      " 'Sub-Saharan Africa' 'Middle East & North Africa' 'Australasia & Oceania'\n",
      " 'South Asia' 'Central Asia']\n"
     ]
    }
   ],
   "source": [
    "#Finding out how many regions data is given in this dataset:\n",
    "Region=Data['Region'].unique()\n",
    "print(Region)"
   ]
  },
  {
   "cell_type": "code",
   "execution_count": 16,
   "id": "f480e34c",
   "metadata": {},
   "outputs": [
    {
     "name": "stdout",
     "output_type": "stream",
     "text": [
      "Total 12 regions were noted in the data.\n"
     ]
    }
   ],
   "source": [
    "print(\"Total {} regions were noted in the data.\".format(len(Region)))"
   ]
  },
  {
   "cell_type": "code",
   "execution_count": 17,
   "id": "b8ee5b57",
   "metadata": {},
   "outputs": [
    {
     "data": {
      "text/plain": [
       "{'Middle East & North Africa': 50474,\n",
       " 'South Asia': 44974,\n",
       " 'South America': 18978,\n",
       " 'Sub-Saharan Africa': 17550,\n",
       " 'Western Europe': 16639,\n",
       " 'Southeast Asia': 12485,\n",
       " 'Central America & Caribbean': 10344,\n",
       " 'Eastern Europe': 5144,\n",
       " 'North America': 3456,\n",
       " 'East Asia': 802,\n",
       " 'Central Asia': 563,\n",
       " 'Australasia & Oceania': 282}"
      ]
     },
     "execution_count": 17,
     "metadata": {},
     "output_type": "execute_result"
    }
   ],
   "source": [
    "#Regions affected by terrorism:\n",
    "region_dict=Data['Region'].value_counts().to_dict()\n",
    "region_dict"
   ]
  },
  {
   "cell_type": "code",
   "execution_count": 18,
   "id": "fb403ac1",
   "metadata": {},
   "outputs": [
    {
     "data": {
      "text/plain": [
       "{'Middle East & North Africa': 50474,\n",
       " 'South Asia': 44974,\n",
       " 'South America': 18978,\n",
       " 'Sub-Saharan Africa': 17550,\n",
       " 'Western Europe': 16639,\n",
       " 'Southeast Asia': 12485,\n",
       " 'Central America & Caribbean': 10344,\n",
       " 'Eastern Europe': 5144,\n",
       " 'North America': 3456,\n",
       " 'East Asia': 802,\n",
       " 'Central Asia': 563,\n",
       " 'Australasia & Oceania': 282}"
      ]
     },
     "execution_count": 18,
     "metadata": {},
     "output_type": "execute_result"
    }
   ],
   "source": [
    "region_dict=Data['Region'].value_counts().to_dict()\n",
    "region_dict"
   ]
  },
  {
   "cell_type": "code",
   "execution_count": 19,
   "id": "8e9b7679",
   "metadata": {},
   "outputs": [
    {
     "data": {
      "image/png": "[encoded data removed]",
      "text/plain": [
       "<Figure size 1080x504 with 1 Axes>"
      ]
     },
     "metadata": {
      "needs_background": "light"
     },
     "output_type": "display_data"
    }
   ],
   "source": [
    "region= list(region_dict.keys())\n",
    "r_count= list(region_dict.values())\n",
    "\n",
    "plt.figure(figsize=(15,7));\n",
    "plt.rcParams.update({'font.size':10});\n",
    "plt.xticks(rotation = 0)\n",
    "plt.title('Attacks by Region')\n",
    "\n",
    "sns.barplot(y=region,x=r_count);"
   ]
  },
  {
   "cell_type": "markdown",
   "id": "3ccd05b7",
   "metadata": {},
   "source": [
    "## - The Middle East & North Africa, South Asia have the most terrorism attacks, followed by , Sub-Saharan-Africa, and South America.There is also a trend that the Western countries tend to have less terrorism attacks than the 3rd world countries. It is also not surprising to see that regions like South Asia, Middle East, Africa, and South America are the top ranking in terms of terrorism attacks due to the large disparities in wealth, differences in religions, as well as territorial disputes over oil."
   ]
  },
  {
   "cell_type": "code",
   "execution_count": 20,
   "id": "eb166de1",
   "metadata": {},
   "outputs": [
    {
     "data": {
      "text/plain": [
       "Unknown    10209\n",
       "Baghdad     7589\n",
       "Karachi     2652\n",
       "Lima        2359\n",
       "Mosul       2265\n",
       "Belfast     2171\n",
       "Name: City, dtype: int64"
      ]
     },
     "execution_count": 20,
     "metadata": {},
     "output_type": "execute_result"
    }
   ],
   "source": [
    "#Top 5 terrorism affected cities:\n",
    "Data['City'].value_counts().head(6)"
   ]
  },
  {
   "cell_type": "markdown",
   "id": "2602d0a5",
   "metadata": {},
   "source": [
    "## `-Top 5 Terrorism Affected cities are Bagdad of Iraq with highest number of terrorist attack (around 7589) , followed by Karachi from Pakistan, Lima from Peru, Mosul from Iraq and Belfast from UK.`"
   ]
  },
  {
   "cell_type": "code",
   "execution_count": 21,
   "id": "3afaad51",
   "metadata": {},
   "outputs": [
    {
     "data": {
      "text/plain": [
       "{'Bombing/Explosion': 88255,\n",
       " 'Armed Assault': 42669,\n",
       " 'Assassination': 19312,\n",
       " 'Hostage Taking (Kidnapping)': 11158,\n",
       " 'Facility/Infrastructure Attack': 10356,\n",
       " 'Unknown': 7276,\n",
       " 'Unarmed Assault': 1015,\n",
       " 'Hostage Taking (Barricade Incident)': 991,\n",
       " 'Hijacking': 659}"
      ]
     },
     "execution_count": 21,
     "metadata": {},
     "output_type": "execute_result"
    }
   ],
   "source": [
    "#Attack modes in terrorism:\n",
    "attack_dict=Data['Attack_type'].value_counts().to_dict()\n",
    "attack_dict"
   ]
  },
  {
   "cell_type": "code",
   "execution_count": 22,
   "id": "a72dac3b",
   "metadata": {},
   "outputs": [
    {
     "name": "stdout",
     "output_type": "stream",
     "text": [
      "Total 9 attack modes were used by terrorist.\n"
     ]
    }
   ],
   "source": [
    "print(\"Total {} attack modes were used by terrorist.\".format(len(attack_dict)))"
   ]
  },
  {
   "cell_type": "code",
   "execution_count": 23,
   "id": "49056662",
   "metadata": {},
   "outputs": [
    {
     "data": {
      "image/png": "[encoded data removed]",
      "text/plain": [
       "<Figure size 1080x504 with 1 Axes>"
      ]
     },
     "metadata": {
      "needs_background": "light"
     },
     "output_type": "display_data"
    }
   ],
   "source": [
    "attack_modes=list(attack_dict.keys())\n",
    "attack_modes_count=list(attack_dict.values())\n",
    "plt.figure(figsize=(15,7));\n",
    "plt.rcParams.update({'font.size':12});\n",
    "plt.xticks(rotation = 0)\n",
    "plt.title('Based on Attack type')\n",
    "sns.barplot(y=attack_modes,x=attack_modes_count);"
   ]
  },
  {
   "cell_type": "markdown",
   "id": "e3d0c654",
   "metadata": {},
   "source": [
    "## `- Bombings and Explosives are the most common type of terrorist act. Because improvised explosive devices are inexpensive and easy to make and also Modern devices are smaller and are harder to detect.`"
   ]
  },
  {
   "cell_type": "code",
   "execution_count": 24,
   "id": "335fcb4c",
   "metadata": {},
   "outputs": [
    {
     "name": "stdout",
     "output_type": "stream",
     "text": [
      "['Private Citizens & Property' 'Government (Diplomatic)'\n",
      " 'Journalists & Media' 'Police' 'Utilities' 'Military'\n",
      " 'Government (General)' 'Airports & Aircraft' 'Business'\n",
      " 'Educational Institution' 'Violent Political Party'\n",
      " 'Religious Figures/Institutions' 'Unknown' 'Transportation' 'Tourists'\n",
      " 'NGO' 'Telecommunication' 'Food or Water Supply'\n",
      " 'Terrorists/Non-State Militia' 'Other' 'Maritime' 'Abortion Related']\n"
     ]
    }
   ],
   "source": [
    "Target_type=Data['Target_type'].unique()\n",
    "print(Target_type)"
   ]
  },
  {
   "cell_type": "code",
   "execution_count": 25,
   "id": "8a04798b",
   "metadata": {},
   "outputs": [
    {
     "name": "stdout",
     "output_type": "stream",
     "text": [
      "Terrorist mostly have 22 targets.\n"
     ]
    }
   ],
   "source": [
    "print(\"Terrorist mostly have {} targets.\".format(len(Target_type)))"
   ]
  },
  {
   "cell_type": "code",
   "execution_count": 26,
   "id": "b192da86",
   "metadata": {},
   "outputs": [
    {
     "data": {
      "text/plain": [
       "{'Private Citizens & Property': 43511,\n",
       " 'Military': 27984,\n",
       " 'Police': 24506,\n",
       " 'Government (General)': 21283,\n",
       " 'Business': 20669,\n",
       " 'Transportation': 6799,\n",
       " 'Utilities': 6023,\n",
       " 'Unknown': 5898,\n",
       " 'Religious Figures/Institutions': 4440,\n",
       " 'Educational Institution': 4322,\n",
       " 'Government (Diplomatic)': 3573,\n",
       " 'Terrorists/Non-State Militia': 3039,\n",
       " 'Journalists & Media': 2948,\n",
       " 'Violent Political Party': 1866,\n",
       " 'Airports & Aircraft': 1343,\n",
       " 'Telecommunication': 1009,\n",
       " 'NGO': 970,\n",
       " 'Tourists': 440,\n",
       " 'Maritime': 351,\n",
       " 'Food or Water Supply': 317,\n",
       " 'Abortion Related': 263,\n",
       " 'Other': 137}"
      ]
     },
     "execution_count": 26,
     "metadata": {},
     "output_type": "execute_result"
    }
   ],
   "source": [
    "#Top 5 choosen attacking targets of terrorists:\n",
    "target_dict= Data['Target_type'].value_counts().to_dict()\n",
    "target_dict"
   ]
  },
  {
   "cell_type": "code",
   "execution_count": 27,
   "id": "a8191d7c",
   "metadata": {},
   "outputs": [
    {
     "data": {
      "image/png": "[encoded data removed]",
      "text/plain": [
       "<Figure size 1080x504 with 1 Axes>"
      ]
     },
     "metadata": {
      "needs_background": "light"
     },
     "output_type": "display_data"
    }
   ],
   "source": [
    "target=list(target_dict.keys())\n",
    "target_count=list(target_dict.values())\n",
    "\n",
    "plt.figure(figsize=(15,7));\n",
    "plt.rcParams.update({'font.size':10});\n",
    "plt.title('Based on Target type')\n",
    "\n",
    "sns.barplot(y=target,x=target_count);"
   ]
  },
  {
   "cell_type": "markdown",
   "id": "e53a3f1b",
   "metadata": {},
   "source": [
    "## `- Private properties and citizens are likely to be targeted by terrorists followed by the military, police and business.`"
   ]
  },
  {
   "cell_type": "code",
   "execution_count": null,
   "id": "498760b6",
   "metadata": {},
   "outputs": [],
   "source": []
  },
  {
   "cell_type": "code",
   "execution_count": 28,
   "id": "f639b049",
   "metadata": {},
   "outputs": [
    {
     "name": "stdout",
     "output_type": "stream",
     "text": [
      "['MANO-D' '23rd of September Communist League' 'Unknown' ...\n",
      " 'Fatoni Warriors' 'Minorities of Metropolitan Attacks'\n",
      " 'Baloch Republican Party']\n"
     ]
    }
   ],
   "source": [
    "#Finding out how many gangs are involved in terrorism and which are they:\n",
    "Gang_name=Data['Gang_name'].unique()\n",
    "print(Gang_name)"
   ]
  },
  {
   "cell_type": "code",
   "execution_count": 29,
   "id": "b22734ab",
   "metadata": {},
   "outputs": [
    {
     "name": "stdout",
     "output_type": "stream",
     "text": [
      "Total 3537 terrorist gangs are active all around the world.\n"
     ]
    }
   ],
   "source": [
    "print(\"Total {} terrorist gangs are active all around the world.\".format(len(Gang_name)))"
   ]
  },
  {
   "cell_type": "code",
   "execution_count": 30,
   "id": "eca2cc5b",
   "metadata": {},
   "outputs": [
    {
     "data": {
      "text/plain": [
       "Unknown                                             82782\n",
       "Taliban                                              7478\n",
       "Islamic State of Iraq and the Levant (ISIL)          5613\n",
       "Shining Path (SL)                                    4555\n",
       "Farabundo Marti National Liberation Front (FMLN)     3351\n",
       "Name: Gang_name, dtype: int64"
      ]
     },
     "execution_count": 30,
     "metadata": {},
     "output_type": "execute_result"
    }
   ],
   "source": [
    "#most dangerous and leading top 5 gangs involed in terrorism:\n",
    "Data['Gang_name'].value_counts().head(5)"
   ]
  },
  {
   "cell_type": "markdown",
   "id": "3adbbf28",
   "metadata": {},
   "source": [
    "## `- As we can see, Taliban has been responsible for around 8.8k terror attacks making it most active terrorist group, followed by Islamic State of Iraq and the Levant (ISIL), also known as ISIS, which is responsible for around 6k attacks.`"
   ]
  },
  {
   "cell_type": "code",
   "execution_count": 31,
   "id": "dc798445",
   "metadata": {
    "scrolled": true
   },
   "outputs": [
    {
     "data": {
      "image/png": "[encoded data removed]",
      "text/plain": [
       "<Figure size 1440x360 with 1 Axes>"
      ]
     },
     "metadata": {
      "needs_background": "light"
     },
     "output_type": "display_data"
    }
   ],
   "source": [
    "plt.figure(figsize=(20,5))\n",
    "plt.title('Attacks Per Year',fontsize=25)\n",
    "sns.countplot(x=Data.Year);\n",
    "plt.xticks(rotation=90);\n",
    "plt.xlabel('Year',fontsize=15)\n",
    "plt.ylabel('No. of Attacks',fontsize=15);"
   ]
  },
  {
   "cell_type": "markdown",
   "id": "269639cc",
   "metadata": {},
   "source": [
    "## `- There is a huge increase in terrorism during the 2000's as opposed to 1970-2000. 2014 had the most terrorist attacks. The biggest increase in terrorist attacks is from from 2010-2014 and that after 2014, the number of terrorist attacks is decreasing, but numbers are still high as compared to 1970-2000.`"
   ]
  },
  {
   "cell_type": "markdown",
   "id": "b289a3ec",
   "metadata": {},
   "source": [
    "# `Conclusion:`"
   ]
  },
  {
   "cell_type": "markdown",
   "id": "eed8efa8",
   "metadata": {},
   "source": [
    "## `Problem Statement 01- As a security/defense analyst, try to find out the hot zones of terrorism.`"
   ]
  },
  {
   "cell_type": "markdown",
   "id": "6c1710f2",
   "metadata": {},
   "source": [
    "- Around 71% of around 190k terror attacks occurred in the continents of Asia and Africa making them HOT ZONES according to Regions. \n",
    "- Also, 4 of the top 5 countries with the most terrorist attacks (Iraq, Pakistan, Afghanistan, India) belong to the continent of Asia (Colombia is in South America). \n",
    "- Top 10 countries (Iraq, Pakistan, Afghanistan, India, Colombia, Philippines, Peru, United Kingdom, El Savador and Somalia) contributed to around 55% of the all the terror attacks that happened globally from 1970 to 2018, making them HOT ZONES according to Countries.\n",
    "- Top 5 terrorism afftected cities i.e Bagdad, Karachi, Lima, Mosul and Belfask are also HOT ZONES city wise."
   ]
  },
  {
   "cell_type": "markdown",
   "id": "b1fd455d",
   "metadata": {},
   "source": [
    "## `Problem Statement 02- What other security issues and findings you can derive through this EDA?`"
   ]
  },
  {
   "cell_type": "markdown",
   "id": "4efaf405",
   "metadata": {},
   "source": [
    "- Incresing security in public places and private properties and building strong and highly trained military and police forces can reduce hazardous from terrorism significantly.\n",
    "- Controlling access to Explosives and firearms all over the world will also reduce Global Terrorism to certain level.\n",
    "- Strengthening security across borders and by taking measures on increased immigration in HOT ZONES will also help in controlling Global Terrorism.\n",
    "- Even though attcks are decresing, number are still high that's why this topic should address globally."
   ]
  },
  {
   "cell_type": "markdown",
   "id": "cbf4de4d",
   "metadata": {},
   "source": [
    "# `References:`"
   ]
  },
  {
   "cell_type": "markdown",
   "id": "f7565f5e",
   "metadata": {},
   "source": [
    "1- https://www.kaggle.com/datasets/muhammetvarl/global-terrorism"
   ]
  },
  {
   "cell_type": "markdown",
   "id": "93742db8",
   "metadata": {},
   "source": [
    "2- https://medium.com/swlh/analysis-of-global-terrorism-dataset-888292e01873"
   ]
  }
 ],
 "metadata": {
  "kernelspec": {
   "display_name": "Python 3 (ipykernel)",
   "language": "python",
   "name": "python3"
  },
  "language_info": {
   "codemirror_mode": {
    "name": "ipython",
    "version": 3
   },
   "file_extension": ".py",
   "mimetype": "text/x-python",
   "name": "python",
   "nbconvert_exporter": "python",
   "pygments_lexer": "ipython3",
   "version": "3.9.12"
  }
 },
 "nbformat": 4,
 "nbformat_minor": 5
}
